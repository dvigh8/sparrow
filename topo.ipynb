{
 "cells": [
  {
   "cell_type": "code",
   "execution_count": 1,
   "metadata": {},
   "outputs": [
    {
     "name": "stdout",
     "output_type": "stream",
     "text": [
      "Requirement already satisfied: rasterio in /Users/josephsd/Vault/env/lib/python3.10/site-packages (1.3.2)\n",
      "Requirement already satisfied: affine in /Users/josephsd/Vault/env/lib/python3.10/site-packages (from rasterio) (2.3.1)\n",
      "Requirement already satisfied: cligj>=0.5 in /Users/josephsd/Vault/env/lib/python3.10/site-packages (from rasterio) (0.7.2)\n",
      "Requirement already satisfied: click-plugins in /Users/josephsd/Vault/env/lib/python3.10/site-packages (from rasterio) (1.1.1)\n",
      "Requirement already satisfied: numpy>=1.18 in /Users/josephsd/Vault/env/lib/python3.10/site-packages (from rasterio) (1.23.3)\n",
      "Requirement already satisfied: setuptools in /Users/josephsd/Vault/env/lib/python3.10/site-packages (from rasterio) (63.4.3)\n",
      "Requirement already satisfied: certifi in /Users/josephsd/Vault/env/lib/python3.10/site-packages (from rasterio) (2022.9.24)\n",
      "Requirement already satisfied: attrs in /Users/josephsd/Vault/env/lib/python3.10/site-packages (from rasterio) (22.1.0)\n",
      "Requirement already satisfied: snuggs>=1.4.1 in /Users/josephsd/Vault/env/lib/python3.10/site-packages (from rasterio) (1.4.7)\n",
      "Requirement already satisfied: click>=4.0 in /Users/josephsd/Vault/env/lib/python3.10/site-packages (from rasterio) (8.1.3)\n",
      "Requirement already satisfied: pyparsing>=2.1.6 in /Users/josephsd/Vault/env/lib/python3.10/site-packages (from snuggs>=1.4.1->rasterio) (3.0.9)\n"
     ]
    }
   ],
   "source": [
    "!pip install rasterio\n"
   ]
  },
  {
   "cell_type": "code",
   "execution_count": 3,
   "metadata": {},
   "outputs": [],
   "source": [
    "import rasterio"
   ]
  },
  {
   "cell_type": "code",
   "execution_count": 5,
   "metadata": {},
   "outputs": [
    {
     "name": "stdout",
     "output_type": "stream",
     "text": [
      "(1, 16800, 43200)\n"
     ]
    }
   ],
   "source": [
    "file = rasterio.open('data/GRID1.tif')\n",
    "dataset = file.read()\n",
    "print(dataset.shape)"
   ]
  },
  {
   "cell_type": "code",
   "execution_count": null,
   "metadata": {},
   "outputs": [],
   "source": []
  }
 ],
 "metadata": {
  "kernelspec": {
   "display_name": "Python 3.10.7 ('env': venv)",
   "language": "python",
   "name": "python3"
  },
  "language_info": {
   "codemirror_mode": {
    "name": "ipython",
    "version": 3
   },
   "file_extension": ".py",
   "mimetype": "text/x-python",
   "name": "python",
   "nbconvert_exporter": "python",
   "pygments_lexer": "ipython3",
   "version": "3.10.8"
  },
  "orig_nbformat": 4,
  "vscode": {
   "interpreter": {
    "hash": "340155132ba56087f980cbce3982da26840d42a5262105d3e8f2a02dea5927f8"
   }
  }
 },
 "nbformat": 4,
 "nbformat_minor": 2
}
